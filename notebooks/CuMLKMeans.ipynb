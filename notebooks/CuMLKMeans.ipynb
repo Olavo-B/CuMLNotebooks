{
 "cells": [
  {
   "cell_type": "code",
   "execution_count": 7,
   "id": "d9cfdf9b-c69c-45cc-8717-e5ba11320340",
   "metadata": {},
   "outputs": [],
   "source": [
    "import pandas as pd\n",
    "import numpy as np\n",
    "import random"
   ]
  },
  {
   "cell_type": "code",
   "execution_count": 8,
   "id": "cbd15197-9bc3-4de4-a811-29616230e227",
   "metadata": {},
   "outputs": [],
   "source": [
    "import warnings\n",
    "\n",
    "warnings.filterwarnings(\"ignore\", category=UserWarning, module=\"cuml\")\n",
    "warnings.filterwarnings(\"ignore\", category=UserWarning, module=\"conda\")\n",
    "\n"
   ]
  },
  {
   "cell_type": "markdown",
   "id": "29dada87-9780-4d93-ac05-98f5f61c1c1a",
   "metadata": {},
   "source": [
    "## Importando Dataset\n",
    "\n",
    "Basta escolher o metodo referente ao dataset e tirar o comentário"
   ]
  },
  {
   "cell_type": "code",
   "execution_count": 38,
   "id": "6938582c-8bcb-42db-8a23-59211cee8891",
   "metadata": {},
   "outputs": [
    {
     "name": "stdout",
     "output_type": "stream",
     "text": [
      "/app/notebooks\n"
     ]
    }
   ],
   "source": [
    "import os\n",
    "cwd = os.getcwd()\n",
    "print(cwd)"
   ]
  },
  {
   "cell_type": "code",
   "execution_count": 40,
   "id": "b4716d81-fb9b-4852-89c4-efe698832336",
   "metadata": {},
   "outputs": [],
   "source": [
    "from LoadDataset import LoadDataset\n",
    "\n",
    "\n",
    "# data,target = LoadDataset.load_adult()\n",
    "\n",
    "# data = data.iloc[:, random.sample(range(0, data.shape[1]), 3)]\n",
    "\n",
    "\n",
    "# data = data.astype(np.float32)\n",
    "\n",
    "data = pd.read_csv('context_vectors.csv')"
   ]
  },
  {
   "cell_type": "code",
   "execution_count": 41,
   "id": "ff0bc1eb-d462-4cfb-b2be-da7be4775a4f",
   "metadata": {},
   "outputs": [],
   "source": [
    "from cuml import KMeans\n",
    "import pandas as pd\n",
    "import numpy as np\n",
    "\n",
    "import os\n",
    "\n",
    "def cuMLKMeans(data, n_clusters=7, n_dim=3, debug=False):\n",
    "    # Create a cuDF DataFrame\n",
    "    data = data.astype('float32')\n",
    "\n",
    "    if n_dim > data.shape[1]:\n",
    "        raise ValueError(\"The number of dimensions must be less than the number of features\")\n",
    "    else:\n",
    "        # Select n_dim random features\n",
    "        data = data.iloc[:, np.random.choice(data.shape[1], n_dim, replace=False)]\n",
    "\n",
    "    X = cudf.DataFrame(data)\n",
    "    \n",
    "    _random_state = 42 if debug else None\n",
    "\n",
    "    # Create and train a KMeans model\n",
    "    model = KMeans(n_clusters=n_clusters,\n",
    "                   random_state=_random_state)\n",
    "    \n",
    "    model.fit(X)\n",
    "\n",
    "\n",
    "    \n",
    "    # Return labels for each sample\n",
    "    return X, model.labels_\n"
   ]
  },
  {
   "cell_type": "code",
   "execution_count": 65,
   "id": "f770a587-d58c-4f9c-a030-86b1e4359c39",
   "metadata": {},
   "outputs": [
    {
     "data": {
      "text/plain": [
       "7    46978\n",
       "1     1389\n",
       "9      221\n",
       "2      115\n",
       "5       64\n",
       "3       46\n",
       "6       11\n",
       "0        7\n",
       "8        7\n",
       "4        4\n",
       "Name: count, dtype: int64"
      ]
     },
     "execution_count": 65,
     "metadata": {},
     "output_type": "execute_result"
    }
   ],
   "source": [
    "import cudf\n",
    "\n",
    "data = cudf.DataFrame(data)\n",
    "x, labels = cuMLKMeans(data,10,data.shape[1],debug=True)\n",
    "\n",
    "labels.value_counts()\n"
   ]
  },
  {
   "cell_type": "code",
   "execution_count": 52,
   "id": "a583f23f-0435-44df-85af-325ab74bc2fb",
   "metadata": {},
   "outputs": [],
   "source": [
    "x.to_csv(f\"selected_features.csv\", index=False)\n",
    "labels = cudf.DataFrame(labels)\n",
    "labels.to_csv(f\"labels.csv\", index=False)"
   ]
  }
 ],
 "metadata": {
  "kernelspec": {
   "display_name": "Python 3 (ipykernel)",
   "language": "python",
   "name": "python3"
  },
  "language_info": {
   "codemirror_mode": {
    "name": "ipython",
    "version": 3
   },
   "file_extension": ".py",
   "mimetype": "text/x-python",
   "name": "python",
   "nbconvert_exporter": "python",
   "pygments_lexer": "ipython3",
   "version": "3.12.7"
  }
 },
 "nbformat": 4,
 "nbformat_minor": 5
}
