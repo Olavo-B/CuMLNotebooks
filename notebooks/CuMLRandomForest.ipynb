{
 "cells": [
  {
   "cell_type": "code",
   "execution_count": 1,
   "metadata": {
    "id": "9rhIXNmQSYmO"
   },
   "outputs": [],
   "source": [
    "import pandas as pd\n",
    "import numpy as np"
   ]
  },
  {
   "cell_type": "markdown",
   "metadata": {
    "id": "qLqXxO_AOSK_"
   },
   "source": [
    "## Importando Dataset\n",
    "\n",
    "Basta escolher o metodo referente ao dataset e tirar o comentário"
   ]
  },
  {
   "cell_type": "code",
   "execution_count": null,
   "metadata": {
    "colab": {
     "base_uri": "https://localhost:8080/",
     "height": 391
    },
    "id": "1mxLu-a_FTZu",
    "outputId": "e7770479-0bb5-45f8-a3eb-e53f6e01f46a"
   },
   "outputs": [
    {
     "name": "stderr",
     "output_type": "stream",
     "text": [
      "\n",
      "ownload Susy Dataset: 922MiB [01:11, 12.9MiB/s] "
     ]
    },
    {
     "name": "stdout",
     "output_type": "stream",
     "text": [
      "Load CSV into DataFrame\n"
     ]
    }
   ],
   "source": [
    "from LoadDataset import LoadDataset\n",
    "\n",
    "\n",
    "data,target = LoadDataset.load_susy()\n",
    "\n",
    "\n",
    "data = data.astype(np.float32)"
   ]
  },
  {
   "cell_type": "markdown",
   "metadata": {
    "id": "c6dNW5p7OqQI"
   },
   "source": [
    "## Rodar Random Forest"
   ]
  },
  {
   "cell_type": "code",
   "execution_count": null,
   "metadata": {
    "id": "pdAJhEdPQtyJ"
   },
   "outputs": [],
   "source": [
    "def run_random_forest(new_data, target, _n_estimators, _max_depth, debug=False):\n",
    "      from cuml.ensemble import RandomForestClassifier\n",
    "      from cuml.metrics import accuracy_score\n",
    "      from cuml.model_selection import train_test_split\n",
    "      import cudf\n",
    "      import time\n",
    "      import gc\n",
    "\n",
    "\n",
    "      # Converter os dados para um DataFrame do cudf\n",
    "      X_cudf = new_data\n",
    "      y_cudf = cudf.Series(target)\n",
    "\n",
    "      # Dividir os dados em conjuntos de treinamento e teste\n",
    "      X_train, X_test, y_train, y_test = train_test_split(X_cudf, y_cudf, test_size=0.2, random_state=42)\n",
    "\n",
    "\n",
    "      # Instanciar e treinar o modelo RandomForest\n",
    "      rf = RandomForestClassifier(n_estimators=_n_estimators,\n",
    "                                  max_depth = _max_depth,\n",
    "                                  random_state=42)\n",
    "\n",
    "      start_time = time.time()\n",
    "      rf.fit(X_train, y_train)\n",
    "      end_time = time.time()\n",
    "\n",
    "      if debug:\n",
    "        print(f'Tempo de treinamento do modelo RandomForest {_n_estimators},{_max_depth}: {end_time - start_time} segundos')\n",
    "\n",
    "      # Fazer previsões no conjunto de teste\n",
    "      y_pred = rf.predict(X_test)\n",
    "\n",
    "      del X_train, X_test, y_train, X_cudf, y_cudf\n",
    "      gc.collect()\n",
    "\n",
    "      # Calcular a acurácia\n",
    "      accuracy = accuracy_score(y_test, y_pred)\n",
    "      if debug:\n",
    "        print(f'Acurácia do modelo RandomForest {_n_estimators},{_max_depth}: {accuracy}')\n",
    "\n",
    "      # Limpar a memória da GPU\n",
    "      del y_test, y_pred\n",
    "      gc.collect()\n",
    "\n",
    "      return accuracy, rf"
   ]
  },
  {
   "cell_type": "code",
   "execution_count": null,
   "metadata": {
    "id": "LZKEkXI9UM3V"
   },
   "outputs": [],
   "source": [
    "import cudf\n",
    "\n",
    "data = cudf.DataFrame(data)\n",
    "\n",
    "# Definindo os valores para N-trees e depth\n",
    "n_trees = np.arange(5, 105, 5)  # De 5 até 100, múltiplos de 5\n",
    "depth = np.arange(5, 105, 5)    # De 5 até 100, múltiplos de 5\n",
    "\n",
    "accs = []\n",
    "for n in n_trees:\n",
    "    for d in depth:\n",
    "        acc, rf = run_random_forest(data, target, n, d, debug=True)\n",
    "        accs.append((n, d, acc))\n"
   ]
  }
 ],
 "metadata": {
  "accelerator": "GPU",
  "colab": {
   "gpuType": "T4",
   "provenance": []
  },
  "kernelspec": {
   "display_name": "Python 3 (ipykernel)",
   "language": "python",
   "name": "python3"
  },
  "language_info": {
   "codemirror_mode": {
    "name": "ipython",
    "version": 3
   },
   "file_extension": ".py",
   "mimetype": "text/x-python",
   "name": "python",
   "nbconvert_exporter": "python",
   "pygments_lexer": "ipython3",
   "version": "3.12.7"
  }
 },
 "nbformat": 4,
 "nbformat_minor": 4
}
